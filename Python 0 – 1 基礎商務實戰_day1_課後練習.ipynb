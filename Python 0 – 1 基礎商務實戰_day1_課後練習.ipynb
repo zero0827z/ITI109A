{
 "metadata": {
  "language_info": {
   "codemirror_mode": {
    "name": "ipython",
    "version": 3
   },
   "file_extension": ".py",
   "mimetype": "text/x-python",
   "name": "python",
   "nbconvert_exporter": "python",
   "pygments_lexer": "ipython3",
   "version": "3.7.6-final"
  },
  "orig_nbformat": 2,
  "kernelspec": {
   "name": "python3",
   "display_name": "Python 3",
   "language": "python"
  }
 },
 "nbformat": 4,
 "nbformat_minor": 2,
 "cells": [
  {
   "source": [
    "# 問題：如何將list 附加 'TMR課程好'"
   ],
   "cell_type": "markdown",
   "metadata": {}
  },
  {
   "cell_type": "code",
   "execution_count": 1,
   "metadata": {},
   "outputs": [],
   "source": [
    "\n",
    "tmrlist = ['今日頭條新聞，TMR公司開設行銷資料科學專班', \n",
    "           '好棒棒']\n"
   ]
  },
  {
   "cell_type": "code",
   "execution_count": 2,
   "metadata": {},
   "outputs": [
    {
     "output_type": "execute_result",
     "data": {
      "text/plain": [
       "['今日頭條新聞，TMR公司開設行銷資料科學專班', '好棒棒', 'TMR課程好']"
      ]
     },
     "metadata": {},
     "execution_count": 2
    }
   ],
   "source": [
    "tmrlist.append('TMR課程好')\n",
    "tmrlist"
   ]
  },
  {
   "source": [
    "# 問題：請將顧客清單（client_list）中使用者id (uid)銷售數值超過8的顧客給抓出來"
   ],
   "cell_type": "markdown",
   "metadata": {}
  },
  {
   "cell_type": "code",
   "execution_count": 3,
   "metadata": {},
   "outputs": [
    {
     "output_type": "execute_result",
     "data": {
      "text/plain": [
       "{'id01': 2, 'id02': 8, 'id03': 9, 'id04': 1}"
      ]
     },
     "metadata": {},
     "execution_count": 3
    }
   ],
   "source": [
    "client_list = {'id01':2,\n",
    "               'id02':8,\n",
    "               'id03':9,\n",
    "               'id04':1}\n",
    "\n",
    "client_list"
   ]
  },
  {
   "cell_type": "code",
   "execution_count": 4,
   "metadata": {},
   "outputs": [
    {
     "output_type": "stream",
     "name": "stdout",
     "text": [
      "id02\nid03\n"
     ]
    },
    {
     "output_type": "execute_result",
     "data": {
      "text/plain": [
       "{'id02': 8, 'id03': 9}"
      ]
     },
     "metadata": {},
     "execution_count": 4
    }
   ],
   "source": [
    "answer={}\n",
    "\n",
    "for i,j in client_list.items():\n",
    "    if j>=8:\n",
    "        print(i)\n",
    "        answer[i]=j\n",
    "\n",
    "answer"
   ]
  },
  {
   "cell_type": "code",
   "execution_count": 5,
   "metadata": {},
   "outputs": [
    {
     "output_type": "stream",
     "name": "stdout",
     "text": [
      "id02\nid03\n"
     ]
    },
    {
     "output_type": "execute_result",
     "data": {
      "text/plain": [
       "{'id02': 8, 'id03': 9}"
      ]
     },
     "metadata": {},
     "execution_count": 5
    }
   ],
   "source": [
    "answer={}\n",
    "\n",
    "for i in client_list:\n",
    "    if client_list[i] >= 8:\n",
    "        print(i)\n",
    "        answer[i]= client_list[i]\n",
    "\n",
    "answer"
   ]
  },
  {
   "source": [
    "# 問題：新增一個id07（銷售數值為6）到client_list裡面"
   ],
   "cell_type": "markdown",
   "metadata": {}
  },
  {
   "cell_type": "code",
   "execution_count": 6,
   "metadata": {},
   "outputs": [
    {
     "output_type": "execute_result",
     "data": {
      "text/plain": [
       "{'id01': 2, 'id02': 8, 'id03': 9, 'id04': 1, 'id07': 6}"
      ]
     },
     "metadata": {},
     "execution_count": 6
    }
   ],
   "source": [
    "client_list['id07']=6\n",
    "client_list"
   ]
  },
  {
   "cell_type": "code",
   "execution_count": null,
   "metadata": {},
   "outputs": [],
   "source": []
  }
 ]
}